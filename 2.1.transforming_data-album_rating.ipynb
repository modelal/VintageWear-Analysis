{
 "cells": [
  {
   "cell_type": "code",
   "execution_count": 19,
   "id": "c61f6ecc",
   "metadata": {},
   "outputs": [],
   "source": [
    "import pandas as pd\n",
    "import numpy as np\n",
    "import csv\n",
    "import re\n",
    "from collections import Counter\n",
    "import seaborn as sns\n",
    "\n",
    "import matplotlib.pyplot as plt\n",
    "import warnings\n",
    "warnings.filterwarnings('ignore')"
   ]
  },
  {
   "cell_type": "code",
   "execution_count": 20,
   "id": "acae1e10",
   "metadata": {},
   "outputs": [],
   "source": [
    "df = pd.read_csv(f\"data/rym_top_5000_all_time.csv\")"
   ]
  },
  {
   "cell_type": "code",
   "execution_count": 21,
   "id": "9b7a7033",
   "metadata": {},
   "outputs": [
    {
     "name": "stdout",
     "output_type": "stream",
     "text": [
      "<class 'pandas.core.frame.DataFrame'>\n",
      "RangeIndex: 5000 entries, 0 to 4999\n",
      "Data columns (total 9 columns):\n",
      " #   Column             Non-Null Count  Dtype  \n",
      "---  ------             --------------  -----  \n",
      " 0   Ranking            5000 non-null   float64\n",
      " 1   Album              5000 non-null   object \n",
      " 2   Artist Name        5000 non-null   object \n",
      " 3   Release Date       5000 non-null   object \n",
      " 4   Genres             5000 non-null   object \n",
      " 5   Descriptors        4886 non-null   object \n",
      " 6   Average Rating     5000 non-null   float64\n",
      " 7   Number of Ratings  5000 non-null   object \n",
      " 8   Number of Reviews  5000 non-null   int64  \n",
      "dtypes: float64(2), int64(1), object(6)\n",
      "memory usage: 351.7+ KB\n"
     ]
    }
   ],
   "source": [
    "df.info()"
   ]
  },
  {
   "cell_type": "markdown",
   "id": "35c27a31",
   "metadata": {},
   "source": [
    "1. We are intereted in analize albums by decade so we will nedd to estract the decade from the year of release:"
   ]
  },
  {
   "cell_type": "code",
   "execution_count": 22,
   "id": "9caf582d",
   "metadata": {},
   "outputs": [
    {
     "name": "stdout",
     "output_type": "stream",
     "text": [
      "16 June 1997\n"
     ]
    },
    {
     "data": {
      "text/plain": [
       "str"
      ]
     },
     "execution_count": 22,
     "metadata": {},
     "output_type": "execute_result"
    }
   ],
   "source": [
    "y = df[\"Release Date\"][0]\n",
    "print(y)\n",
    "type(y)"
   ]
  },
  {
   "cell_type": "code",
   "execution_count": 23,
   "id": "ba2cbdf5",
   "metadata": {},
   "outputs": [
    {
     "data": {
      "text/plain": [
       "'161997'"
      ]
     },
     "execution_count": 23,
     "metadata": {},
     "output_type": "execute_result"
    }
   ],
   "source": [
    "#Wont work because of the day:\n",
    "year = \"\".join([i for i in y if i.isdigit()])\n",
    "year"
   ]
  },
  {
   "cell_type": "code",
   "execution_count": 24,
   "id": "21c32183",
   "metadata": {},
   "outputs": [
    {
     "data": {
      "text/plain": [
       "'1997'"
      ]
     },
     "execution_count": 24,
     "metadata": {},
     "output_type": "execute_result"
    }
   ],
   "source": [
    "#Day is always 2 digits and at the begginig: \n",
    "year = \"\".join([y[i] for i in range(2,len(y)) if y[i].isdigit()])\n",
    "year"
   ]
  },
  {
   "cell_type": "code",
   "execution_count": 25,
   "id": "126727e4",
   "metadata": {},
   "outputs": [],
   "source": [
    "def extr_year(y):\n",
    "    \n",
    "    if y.isdigit():\n",
    "        return int(y)\n",
    "    else:\n",
    "        return int(\"\".join([y[i] for i in range(2,len(y)) if y[i].isdigit()]))\n"
   ]
  },
  {
   "cell_type": "code",
   "execution_count": 26,
   "id": "6a0f565b",
   "metadata": {},
   "outputs": [],
   "source": [
    "df[\"Release Year\"] = df[\"Release Date\"].apply(extr_year)"
   ]
  },
  {
   "cell_type": "code",
   "execution_count": 27,
   "id": "07a828b7",
   "metadata": {},
   "outputs": [],
   "source": [
    "df[\"Decade\"] = df[\"Release Year\"].apply(lambda x:(x // 10)*10)"
   ]
  },
  {
   "cell_type": "markdown",
   "id": "3956346f",
   "metadata": {},
   "source": [
    "2. Selecting columns of interes"
   ]
  },
  {
   "cell_type": "code",
   "execution_count": 28,
   "id": "5ebad2e4",
   "metadata": {},
   "outputs": [],
   "source": [
    "df = df[[\"Average Rating\",\"Decade\",\"Artist Name\",\"Album\", \"Genres\"]]"
   ]
  },
  {
   "cell_type": "code",
   "execution_count": 29,
   "id": "7e050006",
   "metadata": {},
   "outputs": [
    {
     "name": "stdout",
     "output_type": "stream",
     "text": [
      "<class 'pandas.core.frame.DataFrame'>\n",
      "RangeIndex: 5000 entries, 0 to 4999\n",
      "Data columns (total 5 columns):\n",
      " #   Column          Non-Null Count  Dtype  \n",
      "---  ------          --------------  -----  \n",
      " 0   Average Rating  5000 non-null   float64\n",
      " 1   Decade          5000 non-null   int64  \n",
      " 2   Artist Name     5000 non-null   object \n",
      " 3   Album           5000 non-null   object \n",
      " 4   Genres          5000 non-null   object \n",
      "dtypes: float64(1), int64(1), object(3)\n",
      "memory usage: 195.4+ KB\n"
     ]
    }
   ],
   "source": [
    "df.info()"
   ]
  },
  {
   "cell_type": "code",
   "execution_count": 30,
   "id": "f799a66b",
   "metadata": {},
   "outputs": [],
   "source": [
    "df = df.query('Decade > 1950 and Decade < 2010')"
   ]
  },
  {
   "cell_type": "code",
   "execution_count": 31,
   "id": "9fe40b9e",
   "metadata": {},
   "outputs": [
    {
     "data": {
      "text/plain": [
       "array([1990, 1970, 1960, 2000, 1980])"
      ]
     },
     "execution_count": 31,
     "metadata": {},
     "output_type": "execute_result"
    }
   ],
   "source": [
    "df[\"Decade\"].unique()"
   ]
  },
  {
   "cell_type": "code",
   "execution_count": 32,
   "id": "cf8a9b74",
   "metadata": {},
   "outputs": [
    {
     "data": {
      "text/html": [
       "<div>\n",
       "<style scoped>\n",
       "    .dataframe tbody tr th:only-of-type {\n",
       "        vertical-align: middle;\n",
       "    }\n",
       "\n",
       "    .dataframe tbody tr th {\n",
       "        vertical-align: top;\n",
       "    }\n",
       "\n",
       "    .dataframe thead th {\n",
       "        text-align: right;\n",
       "    }\n",
       "</style>\n",
       "<table border=\"1\" class=\"dataframe\">\n",
       "  <thead>\n",
       "    <tr style=\"text-align: right;\">\n",
       "      <th></th>\n",
       "      <th>Average Rating</th>\n",
       "      <th>Decade</th>\n",
       "      <th>Artist Name</th>\n",
       "      <th>Album</th>\n",
       "      <th>Genres</th>\n",
       "    </tr>\n",
       "  </thead>\n",
       "  <tbody>\n",
       "    <tr>\n",
       "      <th>0</th>\n",
       "      <td>4.23</td>\n",
       "      <td>1990</td>\n",
       "      <td>Radiohead</td>\n",
       "      <td>OK Computer</td>\n",
       "      <td>Alternative Rock, Art Rock</td>\n",
       "    </tr>\n",
       "    <tr>\n",
       "      <th>1</th>\n",
       "      <td>4.29</td>\n",
       "      <td>1970</td>\n",
       "      <td>Pink Floyd</td>\n",
       "      <td>Wish You Were Here</td>\n",
       "      <td>Progressive Rock, Art Rock</td>\n",
       "    </tr>\n",
       "    <tr>\n",
       "      <th>2</th>\n",
       "      <td>4.30</td>\n",
       "      <td>1960</td>\n",
       "      <td>King Crimson</td>\n",
       "      <td>In the Court of the Crimson King</td>\n",
       "      <td>Progressive Rock, Art Rock</td>\n",
       "    </tr>\n",
       "    <tr>\n",
       "      <th>3</th>\n",
       "      <td>4.21</td>\n",
       "      <td>2000</td>\n",
       "      <td>Radiohead</td>\n",
       "      <td>Kid A</td>\n",
       "      <td>Art Rock, Experimental Rock, Electronic</td>\n",
       "    </tr>\n",
       "    <tr>\n",
       "      <th>5</th>\n",
       "      <td>4.24</td>\n",
       "      <td>1990</td>\n",
       "      <td>My Bloody Valentine</td>\n",
       "      <td>Loveless</td>\n",
       "      <td>Shoegaze, Noise Pop</td>\n",
       "    </tr>\n",
       "    <tr>\n",
       "      <th>...</th>\n",
       "      <td>...</td>\n",
       "      <td>...</td>\n",
       "      <td>...</td>\n",
       "      <td>...</td>\n",
       "      <td>...</td>\n",
       "    </tr>\n",
       "    <tr>\n",
       "      <th>4995</th>\n",
       "      <td>3.69</td>\n",
       "      <td>1970</td>\n",
       "      <td>Gracious</td>\n",
       "      <td>Gracious!</td>\n",
       "      <td>Progressive Rock, Symphonic Prog</td>\n",
       "    </tr>\n",
       "    <tr>\n",
       "      <th>4996</th>\n",
       "      <td>3.67</td>\n",
       "      <td>1990</td>\n",
       "      <td>Grave Digger</td>\n",
       "      <td>Knights of the Cross</td>\n",
       "      <td>Power Metal, Heavy Metal</td>\n",
       "    </tr>\n",
       "    <tr>\n",
       "      <th>4997</th>\n",
       "      <td>3.68</td>\n",
       "      <td>2000</td>\n",
       "      <td>And Also the Trees</td>\n",
       "      <td>(Listen For) The Rag and Bone Man</td>\n",
       "      <td>Art Rock</td>\n",
       "    </tr>\n",
       "    <tr>\n",
       "      <th>4998</th>\n",
       "      <td>3.65</td>\n",
       "      <td>1960</td>\n",
       "      <td>Studio für elektronische Musik des Westdeutsch...</td>\n",
       "      <td>Hymnen für elektronische und konkrete Klänge</td>\n",
       "      <td>Musique concrète, Modern Classical, Electronic</td>\n",
       "    </tr>\n",
       "    <tr>\n",
       "      <th>4999</th>\n",
       "      <td>3.69</td>\n",
       "      <td>1970</td>\n",
       "      <td>Minnie Riperton</td>\n",
       "      <td>Adventures in Paradise</td>\n",
       "      <td>Smooth Soul, Pop Soul</td>\n",
       "    </tr>\n",
       "  </tbody>\n",
       "</table>\n",
       "<p>4446 rows × 5 columns</p>\n",
       "</div>"
      ],
      "text/plain": [
       "      Average Rating  Decade  \\\n",
       "0               4.23    1990   \n",
       "1               4.29    1970   \n",
       "2               4.30    1960   \n",
       "3               4.21    2000   \n",
       "5               4.24    1990   \n",
       "...              ...     ...   \n",
       "4995            3.69    1970   \n",
       "4996            3.67    1990   \n",
       "4997            3.68    2000   \n",
       "4998            3.65    1960   \n",
       "4999            3.69    1970   \n",
       "\n",
       "                                            Artist Name  \\\n",
       "0                                             Radiohead   \n",
       "1                                            Pink Floyd   \n",
       "2                                          King Crimson   \n",
       "3                                             Radiohead   \n",
       "5                                   My Bloody Valentine   \n",
       "...                                                 ...   \n",
       "4995                                           Gracious   \n",
       "4996                                       Grave Digger   \n",
       "4997                                 And Also the Trees   \n",
       "4998  Studio für elektronische Musik des Westdeutsch...   \n",
       "4999                                    Minnie Riperton   \n",
       "\n",
       "                                             Album  \\\n",
       "0                                      OK Computer   \n",
       "1                               Wish You Were Here   \n",
       "2                 In the Court of the Crimson King   \n",
       "3                                            Kid A   \n",
       "5                                         Loveless   \n",
       "...                                            ...   \n",
       "4995                                     Gracious!   \n",
       "4996                          Knights of the Cross   \n",
       "4997             (Listen For) The Rag and Bone Man   \n",
       "4998  Hymnen für elektronische und konkrete Klänge   \n",
       "4999                        Adventures in Paradise   \n",
       "\n",
       "                                              Genres  \n",
       "0                         Alternative Rock, Art Rock  \n",
       "1                         Progressive Rock, Art Rock  \n",
       "2                         Progressive Rock, Art Rock  \n",
       "3            Art Rock, Experimental Rock, Electronic  \n",
       "5                                Shoegaze, Noise Pop  \n",
       "...                                              ...  \n",
       "4995                Progressive Rock, Symphonic Prog  \n",
       "4996                        Power Metal, Heavy Metal  \n",
       "4997                                        Art Rock  \n",
       "4998  Musique concrète, Modern Classical, Electronic  \n",
       "4999                           Smooth Soul, Pop Soul  \n",
       "\n",
       "[4446 rows x 5 columns]"
      ]
     },
     "execution_count": 32,
     "metadata": {},
     "output_type": "execute_result"
    }
   ],
   "source": [
    "df"
   ]
  },
  {
   "cell_type": "code",
   "execution_count": 33,
   "id": "59c8de14",
   "metadata": {},
   "outputs": [],
   "source": [
    "def export_to_csv(data_frame, file_name):\n",
    "    \"\"\"\n",
    "    Export a DataFrame to a CSV file.\n",
    "\n",
    "    Parameters:\n",
    "        - data_frame: pandas DataFrame\n",
    "        - file_name: str, name of the CSV file (without the extension)\n",
    "    \"\"\"\n",
    "\n",
    "    file_path = f\"data/{file_name}.csv\"\n",
    "    \n",
    "    data_frame.to_csv(file_path, index=False)\n",
    "    print(f\"DataFrame successfully exported to {file_path}\")"
   ]
  },
  {
   "cell_type": "markdown",
   "id": "346cf089",
   "metadata": {},
   "source": [
    "3. Export resulting df for viz purposes:"
   ]
  },
  {
   "cell_type": "code",
   "execution_count": 34,
   "id": "61f0626c",
   "metadata": {},
   "outputs": [
    {
     "name": "stdout",
     "output_type": "stream",
     "text": [
      "DataFrame successfully exported to data/album_rating.csv\n"
     ]
    }
   ],
   "source": [
    "export_to_csv(df, \"album_rating\")"
   ]
  },
  {
   "cell_type": "code",
   "execution_count": null,
   "id": "90db4e20",
   "metadata": {},
   "outputs": [],
   "source": []
  }
 ],
 "metadata": {
  "kernelspec": {
   "display_name": "Python 3 (ipykernel)",
   "language": "python",
   "name": "python3"
  },
  "language_info": {
   "codemirror_mode": {
    "name": "ipython",
    "version": 3
   },
   "file_extension": ".py",
   "mimetype": "text/x-python",
   "name": "python",
   "nbconvert_exporter": "python",
   "pygments_lexer": "ipython3",
   "version": "3.11.5"
  }
 },
 "nbformat": 4,
 "nbformat_minor": 5
}
