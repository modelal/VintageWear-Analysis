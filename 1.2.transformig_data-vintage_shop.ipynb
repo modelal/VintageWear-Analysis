{
 "cells": [
  {
   "cell_type": "markdown",
   "id": "dc199ffa",
   "metadata": {},
   "source": [
    "## Transfor Data - Vintage Shop"
   ]
  },
  {
   "cell_type": "code",
   "execution_count": 49,
   "id": "c61f6ecc",
   "metadata": {},
   "outputs": [],
   "source": [
    "import pandas as pd\n",
    "import numpy as np\n",
    "import csv\n",
    "import re"
   ]
  },
  {
   "cell_type": "markdown",
   "id": "45855c8e",
   "metadata": {},
   "source": [
    "1. Export the data from all 5 Decades:"
   ]
  },
  {
   "cell_type": "code",
   "execution_count": 50,
   "id": "88b77cba",
   "metadata": {},
   "outputs": [],
   "source": [
    "df_1 = pd.read_csv(f\"data/1960s_2024-02-04.csv\")\n",
    "df_2 = pd.read_csv(f\"data/1970s_2024-02-04.csv\")\n",
    "df_3 = pd.read_csv(f\"data/1980s_2024-02-04.csv\")\n",
    "df_4 = pd.read_csv(f\"data/1990s_2024-02-04.csv\")\n",
    "df_5 = pd.read_csv(f\"data/2000s_2024-02-04.csv\")"
   ]
  },
  {
   "cell_type": "markdown",
   "id": "2aec6cb2",
   "metadata": {},
   "source": [
    "2. Concatenate all the dates in the same dataframe, drop duplicates and reset index"
   ]
  },
  {
   "cell_type": "code",
   "execution_count": 51,
   "id": "4c4c2691",
   "metadata": {},
   "outputs": [],
   "source": [
    "df = pd.concat([df_1, df_2, df_3, df_4, df_5])\n",
    "#repeated t-shirts are shown as different products, the link will always be different\n",
    "df.drop(\"link\", axis=1, inplace=True)\n",
    "# we're not going to use this column \n",
    "df.drop(\"qty\", axis=1, inplace=True)"
   ]
  },
  {
   "cell_type": "code",
   "execution_count": 52,
   "id": "03cfe25f",
   "metadata": {},
   "outputs": [
    {
     "name": "stdout",
     "output_type": "stream",
     "text": [
      "False    3737\n",
      "True      270\n",
      "Name: count, dtype: int64\n",
      "--------------INFO--------------\n",
      "<class 'pandas.core.frame.DataFrame'>\n",
      "RangeIndex: 3737 entries, 0 to 3736\n",
      "Data columns (total 3 columns):\n",
      " #   Column       Non-Null Count  Dtype \n",
      "---  ------       --------------  ----- \n",
      " 0   description  3737 non-null   object\n",
      " 1   price        3737 non-null   object\n",
      " 2   collection   3737 non-null   object\n",
      "dtypes: object(3)\n",
      "memory usage: 87.7+ KB\n"
     ]
    }
   ],
   "source": [
    "print(df.duplicated().value_counts())\n",
    "print(\"--------------INFO--------------\")\n",
    "df.drop_duplicates(inplace = True)\n",
    "df = df.reset_index(drop=True)\n",
    "df.info()"
   ]
  },
  {
   "cell_type": "markdown",
   "id": "a374b626",
   "metadata": {},
   "source": [
    "3. Small tranformations:"
   ]
  },
  {
   "cell_type": "code",
   "execution_count": 53,
   "id": "8465e85c",
   "metadata": {},
   "outputs": [
    {
     "data": {
      "text/html": [
       "<div>\n",
       "<style scoped>\n",
       "    .dataframe tbody tr th:only-of-type {\n",
       "        vertical-align: middle;\n",
       "    }\n",
       "\n",
       "    .dataframe tbody tr th {\n",
       "        vertical-align: top;\n",
       "    }\n",
       "\n",
       "    .dataframe thead th {\n",
       "        text-align: right;\n",
       "    }\n",
       "</style>\n",
       "<table border=\"1\" class=\"dataframe\">\n",
       "  <thead>\n",
       "    <tr style=\"text-align: right;\">\n",
       "      <th></th>\n",
       "      <th>description</th>\n",
       "      <th>price_$</th>\n",
       "      <th>decade</th>\n",
       "    </tr>\n",
       "  </thead>\n",
       "  <tbody>\n",
       "    <tr>\n",
       "      <th>0</th>\n",
       "      <td>Oregon State University Champion Tag Shirt</td>\n",
       "      <td>150.0</td>\n",
       "      <td>1960</td>\n",
       "    </tr>\n",
       "    <tr>\n",
       "      <th>1</th>\n",
       "      <td>Hardwick's Dinghy Derby Shirt</td>\n",
       "      <td>250.0</td>\n",
       "      <td>1960</td>\n",
       "    </tr>\n",
       "    <tr>\n",
       "      <th>2</th>\n",
       "      <td>Led Zeppelin Shirt</td>\n",
       "      <td>300.0</td>\n",
       "      <td>1970</td>\n",
       "    </tr>\n",
       "    <tr>\n",
       "      <th>3</th>\n",
       "      <td>Star Wars Hildenbrandt Iron On Shirt</td>\n",
       "      <td>100.0</td>\n",
       "      <td>1970</td>\n",
       "    </tr>\n",
       "    <tr>\n",
       "      <th>4</th>\n",
       "      <td>George Thorogood And The Destroyers Rounder Re...</td>\n",
       "      <td>150.0</td>\n",
       "      <td>1970</td>\n",
       "    </tr>\n",
       "    <tr>\n",
       "      <th>...</th>\n",
       "      <td>...</td>\n",
       "      <td>...</td>\n",
       "      <td>...</td>\n",
       "    </tr>\n",
       "    <tr>\n",
       "      <th>3732</th>\n",
       "      <td>Darkest Hour Shirt</td>\n",
       "      <td>60.0</td>\n",
       "      <td>2000</td>\n",
       "    </tr>\n",
       "    <tr>\n",
       "      <th>3733</th>\n",
       "      <td>Alice Cooper Troubled Man For Troubled Time Shirt</td>\n",
       "      <td>100.0</td>\n",
       "      <td>2000</td>\n",
       "    </tr>\n",
       "    <tr>\n",
       "      <th>3734</th>\n",
       "      <td>311 Fall Tour Shirt</td>\n",
       "      <td>100.0</td>\n",
       "      <td>2000</td>\n",
       "    </tr>\n",
       "    <tr>\n",
       "      <th>3735</th>\n",
       "      <td>311 Fall Tour Shirt</td>\n",
       "      <td>125.0</td>\n",
       "      <td>2000</td>\n",
       "    </tr>\n",
       "    <tr>\n",
       "      <th>3736</th>\n",
       "      <td>311 Fall Tour shirt</td>\n",
       "      <td>125.0</td>\n",
       "      <td>2000</td>\n",
       "    </tr>\n",
       "  </tbody>\n",
       "</table>\n",
       "<p>3737 rows × 3 columns</p>\n",
       "</div>"
      ],
      "text/plain": [
       "                                            description  price_$ decade\n",
       "0            Oregon State University Champion Tag Shirt    150.0   1960\n",
       "1                         Hardwick's Dinghy Derby Shirt    250.0   1960\n",
       "2                                    Led Zeppelin Shirt    300.0   1970\n",
       "3                  Star Wars Hildenbrandt Iron On Shirt    100.0   1970\n",
       "4     George Thorogood And The Destroyers Rounder Re...    150.0   1970\n",
       "...                                                 ...      ...    ...\n",
       "3732                                 Darkest Hour Shirt     60.0   2000\n",
       "3733  Alice Cooper Troubled Man For Troubled Time Shirt    100.0   2000\n",
       "3734                                311 Fall Tour Shirt    100.0   2000\n",
       "3735                                311 Fall Tour Shirt    125.0   2000\n",
       "3736                                311 Fall Tour shirt    125.0   2000\n",
       "\n",
       "[3737 rows x 3 columns]"
      ]
     },
     "execution_count": 53,
     "metadata": {},
     "output_type": "execute_result"
    }
   ],
   "source": [
    "#remove the s in collection and rename the column: \n",
    "df.rename(columns={'collection': 'decade'}, inplace=True)\n",
    "df[\"decade\"] = df[\"decade\"].str.replace(\"s\",\"\")\n",
    "\n",
    "#remove the $ in price and rename the column:\n",
    "df.rename(columns={'price': 'price_$'}, inplace=True)\n",
    "df[\"price_$\"] = df[\"price_$\"].str.replace(\"$\",\"\")\n",
    "df[\"price_$\"] = df[\"price_$\"].str.replace(\",\",\".\")\n",
    "df[\"price_$\"] = df[\"price_$\"].astype(float)\n",
    "\n",
    "# remove the year from the descirption:\n",
    "df[\"description\"] = df[\"description\"].apply(lambda x: x[5:].strip())\n",
    "\n",
    "df"
   ]
  },
  {
   "cell_type": "markdown",
   "id": "f34be338",
   "metadata": {},
   "source": [
    "4. Assign categories/tags"
   ]
  },
  {
   "cell_type": "code",
   "execution_count": 54,
   "id": "1eaeac94",
   "metadata": {},
   "outputs": [],
   "source": [
    "# We have extract the list from the scraping \n",
    "movies = ['disney','looney-tunes','the-simpsons','star-wars','batman']\n",
    "\n",
    "movies = [a.replace(\"-\",\" \").title() for a in movies]"
   ]
  },
  {
   "cell_type": "code",
   "execution_count": 55,
   "id": "bfbdd73e",
   "metadata": {},
   "outputs": [],
   "source": [
    "# We have extract the list from the scraping \n",
    "\n",
    "artist = ['311','acdc','aerosmith','alice-cooper','beatles','black-sabbath',\n",
    "         'bob-dylan','bob-seger','bon-jovi','bruce-springsteen','david-bowie',\n",
    "         'def-leppard','eagles','elton-john','fleetwood-mac','garth-brooks','grateful-dead',\n",
    "         'green-day','guns-n-roses','iron-maiden','jimi-hendrix','jimmy-buffett','jimmy-page',\n",
    "         'john-lennon','journey','kiss','korn','led-zeppelin','lollapalooza','madonna',\n",
    "         'marilyn-manson','metallica','michael-jackson','motley-crue','nine-inch-nails',\n",
    "         'nirvana','ozzy-osbourne','paul-mccartney','pearl-jam','pink-floyd',\n",
    "         'poison','ramones','rolling-stones','smashing-pumpkins','the-clash',\n",
    "         'the-who','tom-petty','type-o-negative','u2','van-halen','woodstock']\n",
    "\n",
    "#Format the list to match the description structure:\n",
    "\n",
    "artist = [a.replace(\"-\",\" \").title() for a in artist]\n",
    "#artists"
   ]
  },
  {
   "cell_type": "markdown",
   "id": "cc4aaa19",
   "metadata": {},
   "source": [
    "   - From 2 list we create a dictionary to use the in a function"
   ]
  },
  {
   "cell_type": "code",
   "execution_count": 56,
   "id": "a89287c8",
   "metadata": {},
   "outputs": [],
   "source": [
    "categories= {\"Music\": artist, \"Entretainment\":movies}\n",
    "#music"
   ]
  },
  {
   "cell_type": "markdown",
   "id": "e15639b9",
   "metadata": {},
   "source": [
    "   - Function to asign cat/tags"
   ]
  },
  {
   "cell_type": "code",
   "execution_count": 57,
   "id": "b3d8032f",
   "metadata": {},
   "outputs": [],
   "source": [
    "def tag(x):\n",
    "    for key,value in categories.items():\n",
    "        for i in value:\n",
    "            if i in x:\n",
    "                return i\n",
    "    return np.nan\n",
    "\n",
    "\n",
    "def cat(x):\n",
    "    for key,value in categories.items():\n",
    "        for i in value:\n",
    "            if i in x:\n",
    "                return key\n",
    "    return np.nan"
   ]
  },
  {
   "cell_type": "code",
   "execution_count": 58,
   "id": "b5c9c54b",
   "metadata": {},
   "outputs": [],
   "source": [
    "df[\"tag\"] = df[\"description\"].apply(tag)\n",
    "df[\"cat\"] = df[\"description\"].apply(cat)"
   ]
  },
  {
   "cell_type": "code",
   "execution_count": 59,
   "id": "850f2170",
   "metadata": {},
   "outputs": [
    {
     "data": {
      "text/html": [
       "<div>\n",
       "<style scoped>\n",
       "    .dataframe tbody tr th:only-of-type {\n",
       "        vertical-align: middle;\n",
       "    }\n",
       "\n",
       "    .dataframe tbody tr th {\n",
       "        vertical-align: top;\n",
       "    }\n",
       "\n",
       "    .dataframe thead th {\n",
       "        text-align: right;\n",
       "    }\n",
       "</style>\n",
       "<table border=\"1\" class=\"dataframe\">\n",
       "  <thead>\n",
       "    <tr style=\"text-align: right;\">\n",
       "      <th></th>\n",
       "      <th>description</th>\n",
       "      <th>price_$</th>\n",
       "      <th>decade</th>\n",
       "      <th>tag</th>\n",
       "      <th>cat</th>\n",
       "    </tr>\n",
       "  </thead>\n",
       "  <tbody>\n",
       "    <tr>\n",
       "      <th>0</th>\n",
       "      <td>Oregon State University Champion Tag Shirt</td>\n",
       "      <td>150.0</td>\n",
       "      <td>1960</td>\n",
       "      <td>NaN</td>\n",
       "      <td>NaN</td>\n",
       "    </tr>\n",
       "    <tr>\n",
       "      <th>1</th>\n",
       "      <td>Hardwick's Dinghy Derby Shirt</td>\n",
       "      <td>250.0</td>\n",
       "      <td>1960</td>\n",
       "      <td>NaN</td>\n",
       "      <td>NaN</td>\n",
       "    </tr>\n",
       "    <tr>\n",
       "      <th>2</th>\n",
       "      <td>Led Zeppelin Shirt</td>\n",
       "      <td>300.0</td>\n",
       "      <td>1970</td>\n",
       "      <td>Led Zeppelin</td>\n",
       "      <td>Music</td>\n",
       "    </tr>\n",
       "    <tr>\n",
       "      <th>3</th>\n",
       "      <td>Star Wars Hildenbrandt Iron On Shirt</td>\n",
       "      <td>100.0</td>\n",
       "      <td>1970</td>\n",
       "      <td>Star Wars</td>\n",
       "      <td>Entretainment</td>\n",
       "    </tr>\n",
       "    <tr>\n",
       "      <th>4</th>\n",
       "      <td>George Thorogood And The Destroyers Rounder Re...</td>\n",
       "      <td>150.0</td>\n",
       "      <td>1970</td>\n",
       "      <td>NaN</td>\n",
       "      <td>NaN</td>\n",
       "    </tr>\n",
       "    <tr>\n",
       "      <th>...</th>\n",
       "      <td>...</td>\n",
       "      <td>...</td>\n",
       "      <td>...</td>\n",
       "      <td>...</td>\n",
       "      <td>...</td>\n",
       "    </tr>\n",
       "    <tr>\n",
       "      <th>3732</th>\n",
       "      <td>Darkest Hour Shirt</td>\n",
       "      <td>60.0</td>\n",
       "      <td>2000</td>\n",
       "      <td>NaN</td>\n",
       "      <td>NaN</td>\n",
       "    </tr>\n",
       "    <tr>\n",
       "      <th>3733</th>\n",
       "      <td>Alice Cooper Troubled Man For Troubled Time Shirt</td>\n",
       "      <td>100.0</td>\n",
       "      <td>2000</td>\n",
       "      <td>Alice Cooper</td>\n",
       "      <td>Music</td>\n",
       "    </tr>\n",
       "    <tr>\n",
       "      <th>3734</th>\n",
       "      <td>311 Fall Tour Shirt</td>\n",
       "      <td>100.0</td>\n",
       "      <td>2000</td>\n",
       "      <td>311</td>\n",
       "      <td>Music</td>\n",
       "    </tr>\n",
       "    <tr>\n",
       "      <th>3735</th>\n",
       "      <td>311 Fall Tour Shirt</td>\n",
       "      <td>125.0</td>\n",
       "      <td>2000</td>\n",
       "      <td>311</td>\n",
       "      <td>Music</td>\n",
       "    </tr>\n",
       "    <tr>\n",
       "      <th>3736</th>\n",
       "      <td>311 Fall Tour shirt</td>\n",
       "      <td>125.0</td>\n",
       "      <td>2000</td>\n",
       "      <td>311</td>\n",
       "      <td>Music</td>\n",
       "    </tr>\n",
       "  </tbody>\n",
       "</table>\n",
       "<p>3737 rows × 5 columns</p>\n",
       "</div>"
      ],
      "text/plain": [
       "                                            description  price_$ decade  \\\n",
       "0            Oregon State University Champion Tag Shirt    150.0   1960   \n",
       "1                         Hardwick's Dinghy Derby Shirt    250.0   1960   \n",
       "2                                    Led Zeppelin Shirt    300.0   1970   \n",
       "3                  Star Wars Hildenbrandt Iron On Shirt    100.0   1970   \n",
       "4     George Thorogood And The Destroyers Rounder Re...    150.0   1970   \n",
       "...                                                 ...      ...    ...   \n",
       "3732                                 Darkest Hour Shirt     60.0   2000   \n",
       "3733  Alice Cooper Troubled Man For Troubled Time Shirt    100.0   2000   \n",
       "3734                                311 Fall Tour Shirt    100.0   2000   \n",
       "3735                                311 Fall Tour Shirt    125.0   2000   \n",
       "3736                                311 Fall Tour shirt    125.0   2000   \n",
       "\n",
       "               tag            cat  \n",
       "0              NaN            NaN  \n",
       "1              NaN            NaN  \n",
       "2     Led Zeppelin          Music  \n",
       "3        Star Wars  Entretainment  \n",
       "4              NaN            NaN  \n",
       "...            ...            ...  \n",
       "3732           NaN            NaN  \n",
       "3733  Alice Cooper          Music  \n",
       "3734           311          Music  \n",
       "3735           311          Music  \n",
       "3736           311          Music  \n",
       "\n",
       "[3737 rows x 5 columns]"
      ]
     },
     "execution_count": 59,
     "metadata": {},
     "output_type": "execute_result"
    }
   ],
   "source": [
    "df"
   ]
  },
  {
   "cell_type": "code",
   "execution_count": 60,
   "id": "8d09d63e",
   "metadata": {},
   "outputs": [],
   "source": [
    "def export_to_csv(data_frame, file_name):\n",
    "    \"\"\"\n",
    "    Export a DataFrame to a CSV file.\n",
    "\n",
    "    Parameters:\n",
    "        - data_frame: pandas DataFrame\n",
    "        - file_name: str, name of the CSV file (without the extension)\n",
    "    \"\"\"\n",
    "\n",
    "    file_path = f\"data/{file_name}.csv\"\n",
    "    \n",
    "    data_frame.to_csv(file_path, index=False)\n",
    "    print(f\"DataFrame successfully exported to {file_path}\")"
   ]
  },
  {
   "cell_type": "markdown",
   "id": "84c6d082",
   "metadata": {},
   "source": [
    "5. Export the resulting DataFrame for viz purposes"
   ]
  },
  {
   "cell_type": "code",
   "execution_count": 61,
   "id": "1ac1bba4",
   "metadata": {},
   "outputs": [
    {
     "name": "stdout",
     "output_type": "stream",
     "text": [
      "DataFrame successfully exported to data/vintage_shop_items.csv\n"
     ]
    }
   ],
   "source": [
    "export_to_csv(df, \"vintage_shop_items\")"
   ]
  },
  {
   "cell_type": "code",
   "execution_count": null,
   "id": "bc3d9772",
   "metadata": {},
   "outputs": [],
   "source": []
  }
 ],
 "metadata": {
  "kernelspec": {
   "display_name": "Python 3 (ipykernel)",
   "language": "python",
   "name": "python3"
  },
  "language_info": {
   "codemirror_mode": {
    "name": "ipython",
    "version": 3
   },
   "file_extension": ".py",
   "mimetype": "text/x-python",
   "name": "python",
   "nbconvert_exporter": "python",
   "pygments_lexer": "ipython3",
   "version": "3.11.5"
  }
 },
 "nbformat": 4,
 "nbformat_minor": 5
}
