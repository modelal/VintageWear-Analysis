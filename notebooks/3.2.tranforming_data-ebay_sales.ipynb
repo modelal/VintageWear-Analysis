{
 "cells": [
  {
   "cell_type": "code",
   "execution_count": 14,
   "id": "003d5d9a",
   "metadata": {},
   "outputs": [],
   "source": [
    "import pandas as pd\n",
    "import numpy as np\n",
    "import csv\n",
    "import re\n",
    "from collections import Counter"
   ]
  },
  {
   "cell_type": "code",
   "execution_count": 2,
   "id": "e5e8fe75",
   "metadata": {},
   "outputs": [],
   "source": [
    "df = pd.read_csv(f\"data/ebay_2024-02-04.csv\")"
   ]
  },
  {
   "cell_type": "code",
   "execution_count": 3,
   "id": "a2b39593",
   "metadata": {},
   "outputs": [
    {
     "data": {
      "text/html": [
       "<div>\n",
       "<style scoped>\n",
       "    .dataframe tbody tr th:only-of-type {\n",
       "        vertical-align: middle;\n",
       "    }\n",
       "\n",
       "    .dataframe tbody tr th {\n",
       "        vertical-align: top;\n",
       "    }\n",
       "\n",
       "    .dataframe thead th {\n",
       "        text-align: right;\n",
       "    }\n",
       "</style>\n",
       "<table border=\"1\" class=\"dataframe\">\n",
       "  <thead>\n",
       "    <tr style=\"text-align: right;\">\n",
       "      <th></th>\n",
       "      <th>description</th>\n",
       "      <th>sold_date</th>\n",
       "      <th>price</th>\n",
       "      <th>shipping</th>\n",
       "      <th>location</th>\n",
       "      <th>collection</th>\n",
       "    </tr>\n",
       "  </thead>\n",
       "  <tbody>\n",
       "    <tr>\n",
       "      <th>0</th>\n",
       "      <td>New Listing1990’s Vintage Nine Inch Nails The ...</td>\n",
       "      <td>Sold  Feb 4, 2024</td>\n",
       "      <td>$149.99</td>\n",
       "      <td>+$30.03 shipping</td>\n",
       "      <td>from United States</td>\n",
       "      <td>Music</td>\n",
       "    </tr>\n",
       "    <tr>\n",
       "      <th>1</th>\n",
       "      <td>Vintage Iron Maiden T Shirt XL - Black n White</td>\n",
       "      <td>Sold  Feb 4, 2024</td>\n",
       "      <td>$75.95</td>\n",
       "      <td>+$17.57 shipping estimate</td>\n",
       "      <td>from United Kingdom</td>\n",
       "      <td>Music</td>\n",
       "    </tr>\n",
       "    <tr>\n",
       "      <th>2</th>\n",
       "      <td>Vintage Willie Nelson Spirit Whiskey River Gra...</td>\n",
       "      <td>Sold  Feb 4, 2024</td>\n",
       "      <td>$40.00</td>\n",
       "      <td>+$28.03 shipping</td>\n",
       "      <td>from United States</td>\n",
       "      <td>Music</td>\n",
       "    </tr>\n",
       "    <tr>\n",
       "      <th>3</th>\n",
       "      <td>Vintage Korn T Shirt Large - Black</td>\n",
       "      <td>Sold  Feb 4, 2024</td>\n",
       "      <td>$39.34</td>\n",
       "      <td>+$16.30 shipping estimate</td>\n",
       "      <td>from United Kingdom</td>\n",
       "      <td>Music</td>\n",
       "    </tr>\n",
       "    <tr>\n",
       "      <th>4</th>\n",
       "      <td>VTG Metallica Rock Band T-Shirt Mens Size L Bl...</td>\n",
       "      <td>Sold  Feb 4, 2024</td>\n",
       "      <td>$30.00</td>\n",
       "      <td>+$27.41 shipping</td>\n",
       "      <td>from United States</td>\n",
       "      <td>Music</td>\n",
       "    </tr>\n",
       "    <tr>\n",
       "      <th>...</th>\n",
       "      <td>...</td>\n",
       "      <td>...</td>\n",
       "      <td>...</td>\n",
       "      <td>...</td>\n",
       "      <td>...</td>\n",
       "      <td>...</td>\n",
       "    </tr>\n",
       "    <tr>\n",
       "      <th>6235</th>\n",
       "      <td>Vintage Iron Maiden 1998 Mark Of The Beast 666...</td>\n",
       "      <td>Sold  Jan 5, 2024</td>\n",
       "      <td>$49.00</td>\n",
       "      <td>+$20.03 shipping</td>\n",
       "      <td>from United States</td>\n",
       "      <td>Music</td>\n",
       "    </tr>\n",
       "    <tr>\n",
       "      <th>6236</th>\n",
       "      <td>Vintage Mens T-Shirt XL Black Short Sleeve Rob...</td>\n",
       "      <td>Sold  Jan 5, 2024</td>\n",
       "      <td>$19.95</td>\n",
       "      <td>Shipping not specified</td>\n",
       "      <td>from United States</td>\n",
       "      <td>Music</td>\n",
       "    </tr>\n",
       "    <tr>\n",
       "      <th>6237</th>\n",
       "      <td>Coheed And Cambria - Geisha - Vintage New Neve...</td>\n",
       "      <td>Sold  Jan 5, 2024</td>\n",
       "      <td>$12.75</td>\n",
       "      <td>+$18.49 shipping</td>\n",
       "      <td>from United States</td>\n",
       "      <td>Music</td>\n",
       "    </tr>\n",
       "    <tr>\n",
       "      <th>6238</th>\n",
       "      <td>Vintage 1991 Metallica T-shirt, All Over Print...</td>\n",
       "      <td>Sold  Jan 5, 2024</td>\n",
       "      <td>$299.99</td>\n",
       "      <td>+$27.01 shipping</td>\n",
       "      <td>from United States</td>\n",
       "      <td>Music</td>\n",
       "    </tr>\n",
       "    <tr>\n",
       "      <th>6239</th>\n",
       "      <td>VNTG 2000s Hook-Ups 069 Anime T-Shirt  Skatebo...</td>\n",
       "      <td>Sold  Jan 5, 2024</td>\n",
       "      <td>$41.86</td>\n",
       "      <td>+$20.09 shipping</td>\n",
       "      <td>from United States</td>\n",
       "      <td>Music</td>\n",
       "    </tr>\n",
       "  </tbody>\n",
       "</table>\n",
       "<p>6240 rows × 6 columns</p>\n",
       "</div>"
      ],
      "text/plain": [
       "                                            description          sold_date  \\\n",
       "0     New Listing1990’s Vintage Nine Inch Nails The ...  Sold  Feb 4, 2024   \n",
       "1        Vintage Iron Maiden T Shirt XL - Black n White  Sold  Feb 4, 2024   \n",
       "2     Vintage Willie Nelson Spirit Whiskey River Gra...  Sold  Feb 4, 2024   \n",
       "3                    Vintage Korn T Shirt Large - Black  Sold  Feb 4, 2024   \n",
       "4     VTG Metallica Rock Band T-Shirt Mens Size L Bl...  Sold  Feb 4, 2024   \n",
       "...                                                 ...                ...   \n",
       "6235  Vintage Iron Maiden 1998 Mark Of The Beast 666...  Sold  Jan 5, 2024   \n",
       "6236  Vintage Mens T-Shirt XL Black Short Sleeve Rob...  Sold  Jan 5, 2024   \n",
       "6237  Coheed And Cambria - Geisha - Vintage New Neve...  Sold  Jan 5, 2024   \n",
       "6238  Vintage 1991 Metallica T-shirt, All Over Print...  Sold  Jan 5, 2024   \n",
       "6239  VNTG 2000s Hook-Ups 069 Anime T-Shirt  Skatebo...  Sold  Jan 5, 2024   \n",
       "\n",
       "        price                   shipping             location collection  \n",
       "0     $149.99           +$30.03 shipping   from United States      Music  \n",
       "1      $75.95  +$17.57 shipping estimate  from United Kingdom      Music  \n",
       "2      $40.00           +$28.03 shipping   from United States      Music  \n",
       "3      $39.34  +$16.30 shipping estimate  from United Kingdom      Music  \n",
       "4      $30.00           +$27.41 shipping   from United States      Music  \n",
       "...       ...                        ...                  ...        ...  \n",
       "6235   $49.00           +$20.03 shipping   from United States      Music  \n",
       "6236   $19.95     Shipping not specified   from United States      Music  \n",
       "6237   $12.75           +$18.49 shipping   from United States      Music  \n",
       "6238  $299.99           +$27.01 shipping   from United States      Music  \n",
       "6239   $41.86           +$20.09 shipping   from United States      Music  \n",
       "\n",
       "[6240 rows x 6 columns]"
      ]
     },
     "execution_count": 3,
     "metadata": {},
     "output_type": "execute_result"
    }
   ],
   "source": [
    "df"
   ]
  },
  {
   "cell_type": "code",
   "execution_count": 4,
   "id": "bf90c89d",
   "metadata": {},
   "outputs": [],
   "source": [
    "def cange_month(x):\n",
    "     \n",
    "    month_dict = {'Jan': \"1\",'Feb': \"2\",'Mar': \"3\",'Apr': \"4\",\n",
    "    'May': \"5\",'Jun': \"6\",'Jul': \"7\",'Aug': \"8\",'Sep': \"9\",\n",
    "    'Oct': \"10\",'Nov': \"11\",'Dec': \"12\"}\n",
    "    \n",
    "    for key, value in month_dict.items():\n",
    "        if key in x:\n",
    "            x = x.replace(key,value)\n",
    "    return x"
   ]
  },
  {
   "cell_type": "code",
   "execution_count": 5,
   "id": "d9c199b8",
   "metadata": {},
   "outputs": [],
   "source": [
    "df[\"sold_date\"] = df[\"sold_date\"].apply(lambda x:x.replace(\"Sold\", \"\").strip().replace(\",\", \"\").replace(\" \",\"-\"))\n",
    "df[\"price\"] = df[\"price\"].str.replace(\"$\",\"\")\n",
    "df[\"location\"] = df[\"location\"].str.replace(\"from \",\"\")\n",
    "df[\"shipping\"] = df[\"shipping\"].apply(lambda x: \"\".join([i for i in x if i.isdigit() or i ==\".\"]))"
   ]
  },
  {
   "cell_type": "code",
   "execution_count": 6,
   "id": "080bd915",
   "metadata": {},
   "outputs": [],
   "source": [
    "#OJO con el formato de la fecha, el mes esta antes \n",
    "df[\"sold_date\"] = df[\"sold_date\"].apply(cange_month)"
   ]
  },
  {
   "cell_type": "code",
   "execution_count": 40,
   "id": "243f571d",
   "metadata": {},
   "outputs": [
    {
     "ename": "ValueError",
     "evalue": "could not convert string to float: '10.99 to 26.91'",
     "output_type": "error",
     "traceback": [
      "\u001b[0;31m---------------------------------------------------------------------------\u001b[0m",
      "\u001b[0;31mValueError\u001b[0m                                Traceback (most recent call last)",
      "Cell \u001b[0;32mIn[40], line 1\u001b[0m\n\u001b[0;32m----> 1\u001b[0m df[\u001b[38;5;124m\"\u001b[39m\u001b[38;5;124mprice\u001b[39m\u001b[38;5;124m\"\u001b[39m]\u001b[38;5;241m.\u001b[39mastype(\u001b[38;5;28mfloat\u001b[39m)\n",
      "File \u001b[0;32m~/miniconda3/envs/ironhack/lib/python3.11/site-packages/pandas/core/generic.py:6534\u001b[0m, in \u001b[0;36mNDFrame.astype\u001b[0;34m(self, dtype, copy, errors)\u001b[0m\n\u001b[1;32m   6530\u001b[0m     results \u001b[38;5;241m=\u001b[39m [ser\u001b[38;5;241m.\u001b[39mastype(dtype, copy\u001b[38;5;241m=\u001b[39mcopy) \u001b[38;5;28;01mfor\u001b[39;00m _, ser \u001b[38;5;129;01min\u001b[39;00m \u001b[38;5;28mself\u001b[39m\u001b[38;5;241m.\u001b[39mitems()]\n\u001b[1;32m   6532\u001b[0m \u001b[38;5;28;01melse\u001b[39;00m:\n\u001b[1;32m   6533\u001b[0m     \u001b[38;5;66;03m# else, only a single dtype is given\u001b[39;00m\n\u001b[0;32m-> 6534\u001b[0m     new_data \u001b[38;5;241m=\u001b[39m \u001b[38;5;28mself\u001b[39m\u001b[38;5;241m.\u001b[39m_mgr\u001b[38;5;241m.\u001b[39mastype(dtype\u001b[38;5;241m=\u001b[39mdtype, copy\u001b[38;5;241m=\u001b[39mcopy, errors\u001b[38;5;241m=\u001b[39merrors)\n\u001b[1;32m   6535\u001b[0m     res \u001b[38;5;241m=\u001b[39m \u001b[38;5;28mself\u001b[39m\u001b[38;5;241m.\u001b[39m_constructor_from_mgr(new_data, axes\u001b[38;5;241m=\u001b[39mnew_data\u001b[38;5;241m.\u001b[39maxes)\n\u001b[1;32m   6536\u001b[0m     \u001b[38;5;28;01mreturn\u001b[39;00m res\u001b[38;5;241m.\u001b[39m__finalize__(\u001b[38;5;28mself\u001b[39m, method\u001b[38;5;241m=\u001b[39m\u001b[38;5;124m\"\u001b[39m\u001b[38;5;124mastype\u001b[39m\u001b[38;5;124m\"\u001b[39m)\n",
      "File \u001b[0;32m~/miniconda3/envs/ironhack/lib/python3.11/site-packages/pandas/core/internals/managers.py:414\u001b[0m, in \u001b[0;36mBaseBlockManager.astype\u001b[0;34m(self, dtype, copy, errors)\u001b[0m\n\u001b[1;32m    411\u001b[0m \u001b[38;5;28;01melif\u001b[39;00m using_copy_on_write():\n\u001b[1;32m    412\u001b[0m     copy \u001b[38;5;241m=\u001b[39m \u001b[38;5;28;01mFalse\u001b[39;00m\n\u001b[0;32m--> 414\u001b[0m \u001b[38;5;28;01mreturn\u001b[39;00m \u001b[38;5;28mself\u001b[39m\u001b[38;5;241m.\u001b[39mapply(\n\u001b[1;32m    415\u001b[0m     \u001b[38;5;124m\"\u001b[39m\u001b[38;5;124mastype\u001b[39m\u001b[38;5;124m\"\u001b[39m,\n\u001b[1;32m    416\u001b[0m     dtype\u001b[38;5;241m=\u001b[39mdtype,\n\u001b[1;32m    417\u001b[0m     copy\u001b[38;5;241m=\u001b[39mcopy,\n\u001b[1;32m    418\u001b[0m     errors\u001b[38;5;241m=\u001b[39merrors,\n\u001b[1;32m    419\u001b[0m     using_cow\u001b[38;5;241m=\u001b[39musing_copy_on_write(),\n\u001b[1;32m    420\u001b[0m )\n",
      "File \u001b[0;32m~/miniconda3/envs/ironhack/lib/python3.11/site-packages/pandas/core/internals/managers.py:354\u001b[0m, in \u001b[0;36mBaseBlockManager.apply\u001b[0;34m(self, f, align_keys, **kwargs)\u001b[0m\n\u001b[1;32m    352\u001b[0m         applied \u001b[38;5;241m=\u001b[39m b\u001b[38;5;241m.\u001b[39mapply(f, \u001b[38;5;241m*\u001b[39m\u001b[38;5;241m*\u001b[39mkwargs)\n\u001b[1;32m    353\u001b[0m     \u001b[38;5;28;01melse\u001b[39;00m:\n\u001b[0;32m--> 354\u001b[0m         applied \u001b[38;5;241m=\u001b[39m \u001b[38;5;28mgetattr\u001b[39m(b, f)(\u001b[38;5;241m*\u001b[39m\u001b[38;5;241m*\u001b[39mkwargs)\n\u001b[1;32m    355\u001b[0m     result_blocks \u001b[38;5;241m=\u001b[39m extend_blocks(applied, result_blocks)\n\u001b[1;32m    357\u001b[0m out \u001b[38;5;241m=\u001b[39m \u001b[38;5;28mtype\u001b[39m(\u001b[38;5;28mself\u001b[39m)\u001b[38;5;241m.\u001b[39mfrom_blocks(result_blocks, \u001b[38;5;28mself\u001b[39m\u001b[38;5;241m.\u001b[39maxes)\n",
      "File \u001b[0;32m~/miniconda3/envs/ironhack/lib/python3.11/site-packages/pandas/core/internals/blocks.py:616\u001b[0m, in \u001b[0;36mBlock.astype\u001b[0;34m(self, dtype, copy, errors, using_cow)\u001b[0m\n\u001b[1;32m    596\u001b[0m \u001b[38;5;250m\u001b[39m\u001b[38;5;124;03m\"\"\"\u001b[39;00m\n\u001b[1;32m    597\u001b[0m \u001b[38;5;124;03mCoerce to the new dtype.\u001b[39;00m\n\u001b[1;32m    598\u001b[0m \n\u001b[0;32m   (...)\u001b[0m\n\u001b[1;32m    612\u001b[0m \u001b[38;5;124;03mBlock\u001b[39;00m\n\u001b[1;32m    613\u001b[0m \u001b[38;5;124;03m\"\"\"\u001b[39;00m\n\u001b[1;32m    614\u001b[0m values \u001b[38;5;241m=\u001b[39m \u001b[38;5;28mself\u001b[39m\u001b[38;5;241m.\u001b[39mvalues\n\u001b[0;32m--> 616\u001b[0m new_values \u001b[38;5;241m=\u001b[39m astype_array_safe(values, dtype, copy\u001b[38;5;241m=\u001b[39mcopy, errors\u001b[38;5;241m=\u001b[39merrors)\n\u001b[1;32m    618\u001b[0m new_values \u001b[38;5;241m=\u001b[39m maybe_coerce_values(new_values)\n\u001b[1;32m    620\u001b[0m refs \u001b[38;5;241m=\u001b[39m \u001b[38;5;28;01mNone\u001b[39;00m\n",
      "File \u001b[0;32m~/miniconda3/envs/ironhack/lib/python3.11/site-packages/pandas/core/dtypes/astype.py:238\u001b[0m, in \u001b[0;36mastype_array_safe\u001b[0;34m(values, dtype, copy, errors)\u001b[0m\n\u001b[1;32m    235\u001b[0m     dtype \u001b[38;5;241m=\u001b[39m dtype\u001b[38;5;241m.\u001b[39mnumpy_dtype\n\u001b[1;32m    237\u001b[0m \u001b[38;5;28;01mtry\u001b[39;00m:\n\u001b[0;32m--> 238\u001b[0m     new_values \u001b[38;5;241m=\u001b[39m astype_array(values, dtype, copy\u001b[38;5;241m=\u001b[39mcopy)\n\u001b[1;32m    239\u001b[0m \u001b[38;5;28;01mexcept\u001b[39;00m (\u001b[38;5;167;01mValueError\u001b[39;00m, \u001b[38;5;167;01mTypeError\u001b[39;00m):\n\u001b[1;32m    240\u001b[0m     \u001b[38;5;66;03m# e.g. _astype_nansafe can fail on object-dtype of strings\u001b[39;00m\n\u001b[1;32m    241\u001b[0m     \u001b[38;5;66;03m#  trying to convert to float\u001b[39;00m\n\u001b[1;32m    242\u001b[0m     \u001b[38;5;28;01mif\u001b[39;00m errors \u001b[38;5;241m==\u001b[39m \u001b[38;5;124m\"\u001b[39m\u001b[38;5;124mignore\u001b[39m\u001b[38;5;124m\"\u001b[39m:\n",
      "File \u001b[0;32m~/miniconda3/envs/ironhack/lib/python3.11/site-packages/pandas/core/dtypes/astype.py:183\u001b[0m, in \u001b[0;36mastype_array\u001b[0;34m(values, dtype, copy)\u001b[0m\n\u001b[1;32m    180\u001b[0m     values \u001b[38;5;241m=\u001b[39m values\u001b[38;5;241m.\u001b[39mastype(dtype, copy\u001b[38;5;241m=\u001b[39mcopy)\n\u001b[1;32m    182\u001b[0m \u001b[38;5;28;01melse\u001b[39;00m:\n\u001b[0;32m--> 183\u001b[0m     values \u001b[38;5;241m=\u001b[39m _astype_nansafe(values, dtype, copy\u001b[38;5;241m=\u001b[39mcopy)\n\u001b[1;32m    185\u001b[0m \u001b[38;5;66;03m# in pandas we don't store numpy str dtypes, so convert to object\u001b[39;00m\n\u001b[1;32m    186\u001b[0m \u001b[38;5;28;01mif\u001b[39;00m \u001b[38;5;28misinstance\u001b[39m(dtype, np\u001b[38;5;241m.\u001b[39mdtype) \u001b[38;5;129;01mand\u001b[39;00m \u001b[38;5;28missubclass\u001b[39m(values\u001b[38;5;241m.\u001b[39mdtype\u001b[38;5;241m.\u001b[39mtype, \u001b[38;5;28mstr\u001b[39m):\n",
      "File \u001b[0;32m~/miniconda3/envs/ironhack/lib/python3.11/site-packages/pandas/core/dtypes/astype.py:134\u001b[0m, in \u001b[0;36m_astype_nansafe\u001b[0;34m(arr, dtype, copy, skipna)\u001b[0m\n\u001b[1;32m    130\u001b[0m     \u001b[38;5;28;01mraise\u001b[39;00m \u001b[38;5;167;01mValueError\u001b[39;00m(msg)\n\u001b[1;32m    132\u001b[0m \u001b[38;5;28;01mif\u001b[39;00m copy \u001b[38;5;129;01mor\u001b[39;00m arr\u001b[38;5;241m.\u001b[39mdtype \u001b[38;5;241m==\u001b[39m \u001b[38;5;28mobject\u001b[39m \u001b[38;5;129;01mor\u001b[39;00m dtype \u001b[38;5;241m==\u001b[39m \u001b[38;5;28mobject\u001b[39m:\n\u001b[1;32m    133\u001b[0m     \u001b[38;5;66;03m# Explicit copy, or required since NumPy can't view from / to object.\u001b[39;00m\n\u001b[0;32m--> 134\u001b[0m     \u001b[38;5;28;01mreturn\u001b[39;00m arr\u001b[38;5;241m.\u001b[39mastype(dtype, copy\u001b[38;5;241m=\u001b[39m\u001b[38;5;28;01mTrue\u001b[39;00m)\n\u001b[1;32m    136\u001b[0m \u001b[38;5;28;01mreturn\u001b[39;00m arr\u001b[38;5;241m.\u001b[39mastype(dtype, copy\u001b[38;5;241m=\u001b[39mcopy)\n",
      "\u001b[0;31mValueError\u001b[0m: could not convert string to float: '10.99 to 26.91'"
     ]
    }
   ],
   "source": [
    "df[\"price\"].astype(float)"
   ]
  },
  {
   "cell_type": "code",
   "execution_count": 47,
   "id": "a268c625",
   "metadata": {},
   "outputs": [],
   "source": [
    "def palabras_clave(column, numb, re_words):\n",
    "    \n",
    "    \"\"\"Function that returns the {numb} words more \n",
    "    repeated in a text inside a csv {file}\"\"\"\n",
    "    \n",
    "    text = column.tolist()\n",
    "    \n",
    "    lines = [i.strip().lower() for i in text]\n",
    "    \n",
    "    #remove all special caracters \n",
    "    clean_lines = []\n",
    "    for entry in lines:\n",
    "        a = \"\".join(char for char in entry if char.isalpha() or char.isspace())\n",
    "        clean_lines.append(a)\n",
    "    \n",
    "    # separate line in list of words \n",
    "    words_lists = list(map(lambda x:x.split(\" \"),clean_lines))\n",
    "    \n",
    "    # list of all words separated \n",
    "    flat_words = [ word.strip() for list_ in words_lists for word in list_  if word != \"\" and word not in re_words]\n",
    "    \n",
    "    # use library counter \n",
    "    word_counts = Counter(flat_words)\n",
    "    \n",
    "    most_common_words = word_counts.most_common(numb)\n",
    "\n",
    "    return most_common_words"
   ]
  },
  {
   "cell_type": "code",
   "execution_count": 83,
   "id": "6967df2b",
   "metadata": {},
   "outputs": [],
   "source": [
    "re_words = ['a', 'an', 'the', 'and', 'or', 'but', 'in', 'on', 'for', 'with', 'at', 'by', 'of', 'about', 'to', 'from',\n",
    "    'up', 'down', 'over', 'under', 'above', 'below', 'after', 'before', 'during', 'while', 'since', 'because',\n",
    "    'as', 'though', 'if', 'whether', 'no', 'not', 'than', 'until', 'unless', 'without', 'out', 'off', 'of', \n",
    "    'into','vintage','shirt','band','tshirt','xl','tour','s','t','made', 'style', 'xxl', 'album',\n",
    "    'size','tee','black', 'mens', 'large', 'concert', 'vtg', 'l', 'yk', 'graphic', 'single', 'stitch', 'music', \n",
    "    'medium', 'sleeve','records', 'love', 'm', 'white', 'dead','usa', 'sz', 'sided', 'unisex', 'blue', 'world', 'men', 'long', 'adult', 'cotton', \n",
    "    'new', 'sxl', 'small','logo', 'all', 'lot', 'double', 'logo' 'rare', 'tag', 'tie', 'made', 'xxl', 'album', 'red', 'short', 'giant', \n",
    "    'pink', 'us', 'you','u','women', 'live','me','print', 'liquid', 'x', 'reprint', 'gray', 'country', 'original', 'big','xlarge', 'n','art','lb', 'top','classic', 'gift','extra','raglan', 'movie', 'tool', 'your', 'distressed']"
   ]
  },
  {
   "cell_type": "code",
   "execution_count": 87,
   "id": "6b94fa27",
   "metadata": {},
   "outputs": [],
   "source": [
    "a = palabras_clave(df[\"description\"],70, re_words)"
   ]
  },
  {
   "cell_type": "code",
   "execution_count": 88,
   "id": "62b01a0b",
   "metadata": {},
   "outputs": [],
   "source": [
    "b =[i[0] for i in a]"
   ]
  },
  {
   "cell_type": "code",
   "execution_count": 89,
   "id": "df0f9f07",
   "metadata": {},
   "outputs": [
    {
     "name": "stdout",
     "output_type": "stream",
     "text": [
      "['rock', 'rare', 'metal', 'punk', 'grateful', 'metallica', 'rap', 'dye', 'kiss', 'green', 'faded', 'heavy', 'promo', 'retro', 'american', 'death', 'nirvana', 'slayer', 'grunge', 'stones', 'floyd', 'rolling', 'skull', 'hardcore', 'merch', 'pop', 'iron', 'hot', 'summer', 'deftones', 'is', 'aop', 'beatles', 'brockum', 'maiden', 'official', 'korn', 'day', 'van', 'zeppelin', 'led', 'my', 'face', 'brothers', 'halen', 'pantera', 'north', 'kanye', 'boys', 'alice', 'anvil', 'kv', 'bob', 'aerosmith', 'emo', 'acdc', 'hip', 'ozzy', 'peppers', 'hop', 'guns', 'smashing', 'pumpkins', 'slipknot', 'hanes', 'motley', 'crue', 'reseller', 'dark', 'roses']\n"
     ]
    }
   ],
   "source": [
    "print(b)"
   ]
  },
  {
   "cell_type": "markdown",
   "id": "60864902",
   "metadata": {},
   "source": [
    "- CHAT GPT:Relate this key words with the t-shirt vintage market"
   ]
  },
  {
   "cell_type": "markdown",
   "id": "4835f769",
   "metadata": {},
   "source": [
    "The keywords you provided seem to be associated with various music genres, bands, and cultural references. Relating these keywords to the t-shirt vintage market could involve creating or identifying t-shirts that feature designs, logos, or references related to these elements. Here's how some of these keywords could be related to the vintage t-shirt market:\n",
    "\n",
    "Rock, Metal, Punk, Grunge, Hardcore: Create or find vintage t-shirts featuring iconic rock, metal, punk, grunge, or hardcore bands. These could include band logos, album covers, or tour graphics.\n",
    "\n",
    "Retro, Vintage, Promo, Official: Vintage t-shirts often highlight the retro or nostalgic aspect, and official promotional merchandise from concerts or events can be highly sought after by collectors.\n",
    "\n",
    "Rare, Faded, Grateful, Death, Nirvana, Slayer: T-shirts from rare or iconic moments in music history, including limited editions or shirts from legendary bands like Nirvana or Slayer, can be valuable in the vintage market.\n",
    "\n",
    "Dye, Tie-Dye, Green, Summer, Hot: T-shirts with tie-dye patterns or designs related to summer and hot weather could be popular for their unique and vibrant aesthetic.\n",
    "\n",
    "American, North, Beatles, Rolling Stones, Led Zeppelin: T-shirts featuring classic American and British rock bands can be popular among collectors and fans of music history.\n",
    "\n",
    "Skull, Metallica, Iron Maiden, Pantera: Designs featuring skulls or logos from heavy metal bands like Metallica, Iron Maiden, or Pantera are often sought after in the vintage market.\n",
    "\n",
    "Pop, Hip-Hop, Rap, Kanye, Guns, Roses: T-shirts representing pop, hip-hop, or rap culture, including those associated with iconic figures like Kanye West or Guns N' Roses, can have a place in the vintage market.\n",
    "\n",
    "Reseller, Hanes, Merch, AOP (All Over Print): Terms like reseller, Hanes (a popular brand for blanks), merch (merchandise), and AOP (All Over Print) might relate to the production and characteristics of vintage t-shirts.\n",
    "\n",
    "Beatles, Bob, Alice, Van, Halen, Ozzy: T-shirts featuring classic rock legends like The Beatles, Bob Dylan, Alice Cooper, Van Halen, or Ozzy Osbourne can be in high demand.\n",
    "\n",
    "Deftones, KISS, Rolling, Stones, Floyd: Specific band names like Deftones, KISS, or classic rock bands like The Rolling Stones and Pink Floyd could be focal points for vintage t-shirt collectors.\n",
    "\n",
    "Understanding the cultural and historical significance of these keywords can help in curating or identifying vintage t-shirts that resonate with collectors and enthusiasts in the market."
   ]
  },
  {
   "cell_type": "code",
   "execution_count": null,
   "id": "9a1fb6eb",
   "metadata": {},
   "outputs": [],
   "source": []
  }
 ],
 "metadata": {
  "kernelspec": {
   "display_name": "Python 3 (ipykernel)",
   "language": "python",
   "name": "python3"
  },
  "language_info": {
   "codemirror_mode": {
    "name": "ipython",
    "version": 3
   },
   "file_extension": ".py",
   "mimetype": "text/x-python",
   "name": "python",
   "nbconvert_exporter": "python",
   "pygments_lexer": "ipython3",
   "version": "3.11.5"
  }
 },
 "nbformat": 4,
 "nbformat_minor": 5
}
