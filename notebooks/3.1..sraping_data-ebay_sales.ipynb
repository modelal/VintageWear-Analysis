{
 "cells": [
  {
   "cell_type": "markdown",
   "id": "b9b20917",
   "metadata": {},
   "source": [
    "# eBay Sales Analysis"
   ]
  },
  {
   "cell_type": "code",
   "execution_count": 8,
   "id": "bed7d519",
   "metadata": {},
   "outputs": [],
   "source": [
    "import requests\n",
    "#BeautifulSoup es una calse dentro de la libreria bs4\n",
    "from bs4 import BeautifulSoup\n",
    "import pandas as pd\n",
    "# from pprint import pprint\n",
    "# from lxml import html\n",
    "# from lxml.html import fromstring\n",
    "# import urllib.request\n",
    "from urllib.request import urlopen\n",
    "# import random\n",
    "import re\n",
    "# import scrapy\n",
    "import csv\n",
    "import datetime"
   ]
  },
  {
   "cell_type": "markdown",
   "id": "1c6dfa89",
   "metadata": {},
   "source": [
    "1. We analize the html code to searh for patterns to extract the info that qe need"
   ]
  },
  {
   "cell_type": "code",
   "execution_count": 9,
   "id": "070efef5",
   "metadata": {},
   "outputs": [],
   "source": [
    "url = \"https://www.ebay.com/sch/i.html?_dcat=15687&_fsrp=1&rt=nc&_from=R40&_nkw=vintage+t+shirt&_sacat=0&_ipg=240&LH_Sold=1&Theme=Band\""
   ]
  },
  {
   "cell_type": "code",
   "execution_count": 10,
   "id": "066e63a4",
   "metadata": {},
   "outputs": [
    {
     "data": {
      "text/plain": [
       "<Response [200]>"
      ]
     },
     "execution_count": 10,
     "metadata": {},
     "output_type": "execute_result"
    }
   ],
   "source": [
    "html = requests.get(url)\n",
    "html"
   ]
  },
  {
   "cell_type": "code",
   "execution_count": 11,
   "id": "ea6b8bd0",
   "metadata": {},
   "outputs": [],
   "source": [
    "items = BeautifulSoup(html.content, \"html.parser\")"
   ]
  },
  {
   "cell_type": "code",
   "execution_count": 12,
   "id": "9a06878e",
   "metadata": {},
   "outputs": [
    {
     "name": "stdout",
     "output_type": "stream",
     "text": [
      "New ListingVintage 1992 Pearl Jam Choices T Shirt XL Fruit of the Loom 9 out of 10 Original\n",
      "Sold  Feb 4, 2024\n",
      "$233.54\n",
      "+$31.42 shipping\n",
      "from United States\n"
     ]
    }
   ],
   "source": [
    "entries = items.find_all(\"div\", {\"class\":\"s-item__info clearfix\"})\n",
    "title = entries[1].find_all(\"div\", {\"class\":\"s-item__title\"})[0].getText()\n",
    "sold =  entries[1].find_all(\"span\", {\"class\":\"POSITIVE\"})[0].getText()\n",
    "price = entries[1].find_all(\"span\", {\"class\":\"s-item__price\"})[0].getText()\n",
    "shipping_cost =  entries[1].find_all(\"span\", {\"class\":\"s-item__shipping s-item__logisticsCost\"})[0].getText()\n",
    "shipped_from =  entries[1].find_all(\"span\", {\"class\":\"s-item__location s-item__itemLocation\"})[0].getText()\n",
    "print(title)\n",
    "print(sold)\n",
    "print(price)\n",
    "print(shipping_cost)\n",
    "print(shipped_from)"
   ]
  },
  {
   "cell_type": "markdown",
   "id": "e4024fc0",
   "metadata": {},
   "source": [
    "2. We use a predefined link, that we will modiffy for each page of aur tageted search"
   ]
  },
  {
   "cell_type": "code",
   "execution_count": 13,
   "id": "239d9206",
   "metadata": {},
   "outputs": [],
   "source": [
    "# with this variable we can change the page in with we srpape\n",
    "n = 1"
   ]
  },
  {
   "cell_type": "code",
   "execution_count": 14,
   "id": "bbe35f6f",
   "metadata": {},
   "outputs": [],
   "source": [
    "# formated link --> with page variable\n",
    "url = f\"https://www.ebay.com/sch/i.html?_dcat=15687&_fsrp=1&rt=nc&_from=R40&_nkw=vintage+t+shirt&_sacat=0&_ipg=240&LH_Sold=1&Theme=Band&_pgn={n}\""
   ]
  },
  {
   "cell_type": "code",
   "execution_count": 15,
   "id": "05aeb6cb",
   "metadata": {},
   "outputs": [
    {
     "data": {
      "text/plain": [
       "<Response [200]>"
      ]
     },
     "execution_count": 15,
     "metadata": {},
     "output_type": "execute_result"
    }
   ],
   "source": [
    "# We extract the html code\n",
    "html = requests.get(url)\n",
    "html"
   ]
  },
  {
   "cell_type": "code",
   "execution_count": 16,
   "id": "4574f620",
   "metadata": {},
   "outputs": [],
   "source": [
    "# parse it with beautifull soup\n",
    "items = BeautifulSoup(html.content, \"html.parser\")"
   ]
  },
  {
   "cell_type": "code",
   "execution_count": 19,
   "id": "03c9977f",
   "metadata": {},
   "outputs": [],
   "source": [
    "# We apply a function that extracts and sets to a df all selected values in the page \n",
    "sold = page_table(items, \"Music\")"
   ]
  },
  {
   "cell_type": "code",
   "execution_count": 20,
   "id": "d100ee42",
   "metadata": {},
   "outputs": [
    {
     "data": {
      "text/html": [
       "<div>\n",
       "<style scoped>\n",
       "    .dataframe tbody tr th:only-of-type {\n",
       "        vertical-align: middle;\n",
       "    }\n",
       "\n",
       "    .dataframe tbody tr th {\n",
       "        vertical-align: top;\n",
       "    }\n",
       "\n",
       "    .dataframe thead th {\n",
       "        text-align: right;\n",
       "    }\n",
       "</style>\n",
       "<table border=\"1\" class=\"dataframe\">\n",
       "  <thead>\n",
       "    <tr style=\"text-align: right;\">\n",
       "      <th></th>\n",
       "      <th>description</th>\n",
       "      <th>sold_date</th>\n",
       "      <th>price</th>\n",
       "      <th>shipping</th>\n",
       "      <th>location</th>\n",
       "      <th>collection</th>\n",
       "    </tr>\n",
       "  </thead>\n",
       "  <tbody>\n",
       "    <tr>\n",
       "      <th>0</th>\n",
       "      <td>LOT OF 12 VINTAGE STYLE CLASSIC RAP HIP-HOP UR...</td>\n",
       "      <td>Sold  Feb 4, 2024</td>\n",
       "      <td>$85.00</td>\n",
       "      <td>+$52.43 shipping</td>\n",
       "      <td>from United States</td>\n",
       "      <td>Music</td>\n",
       "    </tr>\n",
       "    <tr>\n",
       "      <th>1</th>\n",
       "      <td>Metallica Large Vintage T Shirt Single Stitch ...</td>\n",
       "      <td>Sold  Feb 4, 2024</td>\n",
       "      <td>$34.81</td>\n",
       "      <td>+$13.24 shipping estimate</td>\n",
       "      <td>from United Kingdom</td>\n",
       "      <td>Music</td>\n",
       "    </tr>\n",
       "    <tr>\n",
       "      <th>2</th>\n",
       "      <td>Outkast Band Graphic T Shirt Target Vintage St...</td>\n",
       "      <td>Sold  Feb 4, 2024</td>\n",
       "      <td>$5.00</td>\n",
       "      <td>Shipping not specified</td>\n",
       "      <td>from United States</td>\n",
       "      <td>Music</td>\n",
       "    </tr>\n",
       "    <tr>\n",
       "      <th>3</th>\n",
       "      <td>Vintage Columbine High School Columbine Open S...</td>\n",
       "      <td>Sold  Feb 4, 2024</td>\n",
       "      <td>$65.00</td>\n",
       "      <td>+$26.72 shipping</td>\n",
       "      <td>from United States</td>\n",
       "      <td>Music</td>\n",
       "    </tr>\n",
       "    <tr>\n",
       "      <th>4</th>\n",
       "      <td>Vintage Hanes Shirt Adult Small 80's 1983 Shor...</td>\n",
       "      <td>Sold  Feb 4, 2024</td>\n",
       "      <td>$29.99</td>\n",
       "      <td>+$19.00 shipping</td>\n",
       "      <td>from United States</td>\n",
       "      <td>Music</td>\n",
       "    </tr>\n",
       "    <tr>\n",
       "      <th>...</th>\n",
       "      <td>...</td>\n",
       "      <td>...</td>\n",
       "      <td>...</td>\n",
       "      <td>...</td>\n",
       "      <td>...</td>\n",
       "      <td>...</td>\n",
       "    </tr>\n",
       "    <tr>\n",
       "      <th>235</th>\n",
       "      <td>Vintage 90s Sting /the Police Band/ Black T-Sh...</td>\n",
       "      <td>Sold  Feb 3, 2024</td>\n",
       "      <td>$15.00</td>\n",
       "      <td>+$32.00 shipping</td>\n",
       "      <td>from United States</td>\n",
       "      <td>Music</td>\n",
       "    </tr>\n",
       "    <tr>\n",
       "      <th>236</th>\n",
       "      <td>U2 Vertigo 2005 Tour 3/4 Sleeve Raglan Band T-...</td>\n",
       "      <td>Sold  Feb 3, 2024</td>\n",
       "      <td>$30.00</td>\n",
       "      <td>+$25.69 shipping</td>\n",
       "      <td>from United States</td>\n",
       "      <td>Music</td>\n",
       "    </tr>\n",
       "    <tr>\n",
       "      <th>237</th>\n",
       "      <td>BLINK 182 MENS RARE BAND T-SHIRT NEW SIZE L Vi...</td>\n",
       "      <td>Sold  Feb 3, 2024</td>\n",
       "      <td>$12.99</td>\n",
       "      <td>+$19.33 shipping</td>\n",
       "      <td>from United States</td>\n",
       "      <td>Music</td>\n",
       "    </tr>\n",
       "    <tr>\n",
       "      <th>238</th>\n",
       "      <td>Vintage Bon Jovi Shirt Bounce Tour XL Thunder ...</td>\n",
       "      <td>Sold  Feb 3, 2024</td>\n",
       "      <td>$24.00</td>\n",
       "      <td>+$28.22 shipping</td>\n",
       "      <td>from United States</td>\n",
       "      <td>Music</td>\n",
       "    </tr>\n",
       "    <tr>\n",
       "      <th>239</th>\n",
       "      <td>Vintage MOTLEY CRUE Theater Of Pain 2000s Wint...</td>\n",
       "      <td>Sold  Feb 3, 2024</td>\n",
       "      <td>$35.00</td>\n",
       "      <td>+$19.13 shipping</td>\n",
       "      <td>from United States</td>\n",
       "      <td>Music</td>\n",
       "    </tr>\n",
       "  </tbody>\n",
       "</table>\n",
       "<p>240 rows × 6 columns</p>\n",
       "</div>"
      ],
      "text/plain": [
       "                                           description          sold_date  \\\n",
       "0    LOT OF 12 VINTAGE STYLE CLASSIC RAP HIP-HOP UR...  Sold  Feb 4, 2024   \n",
       "1    Metallica Large Vintage T Shirt Single Stitch ...  Sold  Feb 4, 2024   \n",
       "2    Outkast Band Graphic T Shirt Target Vintage St...  Sold  Feb 4, 2024   \n",
       "3    Vintage Columbine High School Columbine Open S...  Sold  Feb 4, 2024   \n",
       "4    Vintage Hanes Shirt Adult Small 80's 1983 Shor...  Sold  Feb 4, 2024   \n",
       "..                                                 ...                ...   \n",
       "235  Vintage 90s Sting /the Police Band/ Black T-Sh...  Sold  Feb 3, 2024   \n",
       "236  U2 Vertigo 2005 Tour 3/4 Sleeve Raglan Band T-...  Sold  Feb 3, 2024   \n",
       "237  BLINK 182 MENS RARE BAND T-SHIRT NEW SIZE L Vi...  Sold  Feb 3, 2024   \n",
       "238  Vintage Bon Jovi Shirt Bounce Tour XL Thunder ...  Sold  Feb 3, 2024   \n",
       "239  Vintage MOTLEY CRUE Theater Of Pain 2000s Wint...  Sold  Feb 3, 2024   \n",
       "\n",
       "      price                   shipping             location collection  \n",
       "0    $85.00           +$52.43 shipping   from United States      Music  \n",
       "1    $34.81  +$13.24 shipping estimate  from United Kingdom      Music  \n",
       "2     $5.00     Shipping not specified   from United States      Music  \n",
       "3    $65.00           +$26.72 shipping   from United States      Music  \n",
       "4    $29.99           +$19.00 shipping   from United States      Music  \n",
       "..      ...                        ...                  ...        ...  \n",
       "235  $15.00           +$32.00 shipping   from United States      Music  \n",
       "236  $30.00           +$25.69 shipping   from United States      Music  \n",
       "237  $12.99           +$19.33 shipping   from United States      Music  \n",
       "238  $24.00           +$28.22 shipping   from United States      Music  \n",
       "239  $35.00           +$19.13 shipping   from United States      Music  \n",
       "\n",
       "[240 rows x 6 columns]"
      ]
     },
     "execution_count": 20,
     "metadata": {},
     "output_type": "execute_result"
    }
   ],
   "source": [
    "#DataFrame generated\n",
    "\n",
    "sold\n",
    "\n",
    "#I applied this method for 1 to 26 pages and then concatenated\n",
    "#all data frames generated into one and exported it as .csv"
   ]
  },
  {
   "cell_type": "code",
   "execution_count": 18,
   "id": "9fb753c8",
   "metadata": {},
   "outputs": [],
   "source": [
    "def page_table(soup, collection):\n",
    "    \n",
    "    \"\"\"Returns a DataFrame for a given soup\"\"\"\n",
    "    \n",
    "    #1. Fist we target the box elements where all the info of a product is contained:\n",
    "    elemnt_box = soup.find_all(\"div\", {\"class\":\"s-item__info clearfix\"})\n",
    "    \n",
    "    elemnt_box = elemnt_box[1:]\n",
    "    #2. We iterate trouth the elements to extract the info that we need: Comprehension lists\n",
    "    \n",
    "    #2.1 Descriptions list:\n",
    "    description = [ i.find(\"div\", {\"class\":\"s-item__title\"}).getText().strip() for i in elemnt_box]\n",
    "    \n",
    "    #2.2 Date:\n",
    "    date = [i.find(\"span\", {\"class\":\"POSITIVE\"}).getText().strip() for i in elemnt_box]\n",
    "    \n",
    "    \n",
    "    #2.2 Prices list:\n",
    "    price = [ i.find(\"span\", {\"class\":\"s-item__price\"}).getText().strip() for i in elemnt_box]\n",
    "    \n",
    "    #2.3 shipping:\n",
    "    shipping = [ i.find(\"span\", {\"class\":\"s-item__shipping s-item__logisticsCost\"}).getText().strip() for i in elemnt_box]\n",
    "    \n",
    "    # seller \n",
    "    shipped_from = [ i.find(\"span\", {\"class\":\"s-item__location s-item__itemLocation\"}).getText().strip() for i in elemnt_box]\n",
    "    \n",
    "    \n",
    "    \n",
    "    #3. Create a disctionary with the tree lists:\n",
    "    page_dict = {}\n",
    "    \n",
    "    page_dict[\"description\"] = description\n",
    "    page_dict[\"sold_date\"] = date\n",
    "    page_dict[\"price\"] = price\n",
    "    page_dict[\"shipping\"] = shipping\n",
    "    page_dict[\"location\"] = shipped_from\n",
    "    page_dict[\"collection\"] = [collection for i in range(len(description))]\n",
    "\n",
    "    \n",
    "    df = pd.DataFrame(page_dict)\n",
    "    \n",
    "    return df"
   ]
  },
  {
   "cell_type": "code",
   "execution_count": 228,
   "id": "bdbbbc2d",
   "metadata": {},
   "outputs": [],
   "source": [
    "def export_to_csv(data_frame, file_name):\n",
    "    \"\"\"\n",
    "    Export a DataFrame to a CSV file.\n",
    "\n",
    "    Parameters:\n",
    "        - data_frame: pandas DataFrame\n",
    "        - file_name: str, name of the CSV file (without the extension)\n",
    "    \"\"\"\n",
    "    #print date stamp - datetime.datetime.now()\n",
    "    \n",
    "    t_stamp = str(datetime.datetime.now()).split(\".\")[0].replace(\" \",\"_\")\n",
    "    \n",
    "    file_path = f\"{file_name}_{t_stamp}.csv\"\n",
    "    \n",
    "    data_frame.to_csv(file_path, index=False)\n",
    "    print(f\"DataFrame successfully exported to {file_path}\")"
   ]
  }
 ],
 "metadata": {
  "kernelspec": {
   "display_name": "Python 3 (ipykernel)",
   "language": "python",
   "name": "python3"
  },
  "language_info": {
   "codemirror_mode": {
    "name": "ipython",
    "version": 3
   },
   "file_extension": ".py",
   "mimetype": "text/x-python",
   "name": "python",
   "nbconvert_exporter": "python",
   "pygments_lexer": "ipython3",
   "version": "3.11.5"
  }
 },
 "nbformat": 4,
 "nbformat_minor": 5
}
