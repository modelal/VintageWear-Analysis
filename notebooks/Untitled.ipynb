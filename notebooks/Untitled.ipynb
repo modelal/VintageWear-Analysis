{
 "cells": [
  {
   "cell_type": "code",
   "execution_count": null,
   "id": "724118a0",
   "metadata": {},
   "outputs": [],
   "source": [
    "\"/Users/Moni/Desktop/"
   ]
  },
  {
   "cell_type": "code",
   "execution_count": 1,
   "id": "c50ffc74",
   "metadata": {},
   "outputs": [
    {
     "data": {
      "text/plain": [
       "True"
      ]
     },
     "execution_count": 1,
     "metadata": {},
     "output_type": "execute_result"
    }
   ],
   "source": [
    "# Open the file in the default web browser\n",
    "import webbrowser\n"
   ]
  },
  {
   "cell_type": "code",
   "execution_count": 2,
   "id": "5c4618e3",
   "metadata": {},
   "outputs": [
    {
     "data": {
      "text/plain": [
       "True"
      ]
     },
     "execution_count": 2,
     "metadata": {},
     "output_type": "execute_result"
    }
   ],
   "source": [
    "\"/Users/Moni/Desktop/choropleth_map.html\")"
   ]
  },
  {
   "cell_type": "code",
   "execution_count": 4,
   "id": "236086bb",
   "metadata": {},
   "outputs": [],
   "source": [
    "from bs4 import BeautifulSoup\n",
    "\n",
    "# Specify the path to your HTML file\n",
    "file_path = \"/Users/Moni/Desktop/choropleth_map.html\"\n",
    "\n",
    "# Read the HTML file\n",
    "with open(file_path, 'r', encoding='utf-8') as file:\n",
    "    html_content = file.read()\n",
    "\n",
    "# Parse the HTML content using BeautifulSoup\n",
    "#soup = BeautifulSoup(html_content, 'html.parser')\n",
    "\n",
    "# Print the parsed HTML (prettified)\n",
    "#print(soup.prettify())\n"
   ]
  },
  {
   "cell_type": "code",
   "execution_count": null,
   "id": "bfe1c03f",
   "metadata": {},
   "outputs": [],
   "source": []
  },
  {
   "cell_type": "code",
   "execution_count": null,
   "id": "061c5389",
   "metadata": {},
   "outputs": [],
   "source": []
  }
 ],
 "metadata": {
  "kernelspec": {
   "display_name": "ironhack",
   "language": "python",
   "name": "ironhack"
  },
  "language_info": {
   "codemirror_mode": {
    "name": "ipython",
    "version": 3
   },
   "file_extension": ".py",
   "mimetype": "text/x-python",
   "name": "python",
   "nbconvert_exporter": "python",
   "pygments_lexer": "ipython3",
   "version": "3.11.5"
  }
 },
 "nbformat": 4,
 "nbformat_minor": 5
}
